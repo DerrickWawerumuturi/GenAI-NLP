{
 "cells": [
  {
   "cell_type": "code",
   "id": "initial_id",
   "metadata": {
    "collapsed": true,
    "ExecuteTime": {
     "end_time": "2025-06-18T06:59:27.932405Z",
     "start_time": "2025-06-18T06:59:27.920359Z"
    }
   },
   "source": [
    "import re\n",
    "import nltk\n",
    "nltk.download('punkt')\n",
    "nltk.download('punkt_tab')\n",
    "\n",
    "import string\n",
    "\n",
    "import matplotlib.pyplot as plt\n",
    "def warn(*args, **kwargs):\n",
    "    pass\n",
    "import warnings\n",
    "warnings.simplefilter('ignore')\n",
    "warnings.warn = warn"
   ],
   "outputs": [
    {
     "name": "stderr",
     "output_type": "stream",
     "text": [
      "[nltk_data] Downloading package punkt to\n",
      "[nltk_data]     C:\\Users\\User\\AppData\\Roaming\\nltk_data...\n",
      "[nltk_data]   Package punkt is already up-to-date!\n",
      "[nltk_data] Downloading package punkt_tab to\n",
      "[nltk_data]     C:\\Users\\User\\AppData\\Roaming\\nltk_data...\n",
      "[nltk_data]   Package punkt_tab is already up-to-date!\n"
     ]
    }
   ],
   "execution_count": 10
  },
  {
   "metadata": {
    "ExecuteTime": {
     "end_time": "2025-06-18T06:59:35.164241Z",
     "start_time": "2025-06-18T06:59:35.157459Z"
    }
   },
   "cell_type": "code",
   "source": [
    "# preprocess the string/song\n",
    "def preprocess_string(s):\n",
    "    # remove all non letter and numbers\n",
    "    s = re.sub(r\"[^\\w\\s]\", \"\", s)\n",
    "\n",
    "    # remove extra whitespaces\n",
    "    s = re.sub(r\"\\d\", \"\", s)\n",
    "\n",
    "    return s"
   ],
   "id": "7b34932333a60b4c",
   "outputs": [],
   "execution_count": 11
  },
  {
   "metadata": {
    "ExecuteTime": {
     "end_time": "2025-06-18T07:06:02.819624Z",
     "start_time": "2025-06-18T07:06:02.801915Z"
    }
   },
   "cell_type": "code",
   "source": [
    "from nltk.tokenize import word_tokenize\n",
    "\n",
    "def preprocess(song):\n",
    "    tokens = word_tokenize(song)\n",
    "    tokens = [preprocess_string(w) for w in tokens]\n",
    "    return [\n",
    "        w.lower() for w in tokens if len(w) != 0\n",
    "        or\n",
    "        not(w in string.punctuation)\n",
    "    ]"
   ],
   "id": "9cd1cc1aa2edb611",
   "outputs": [],
   "execution_count": 12
  },
  {
   "metadata": {
    "ExecuteTime": {
     "end_time": "2025-06-18T08:51:11.684Z",
     "start_time": "2025-06-18T08:51:11.603653Z"
    }
   },
   "cell_type": "code",
   "source": [
    "song = \"\"\"\n",
    "\n",
    "Hold fast to dreams\n",
    "\n",
    "For if dreams die\n",
    "\n",
    "Life is a broken-winged bird\n",
    "\n",
    "That cannot fly.\n",
    "\n",
    "Hold fast to dreams\n",
    "\n",
    "For when dreams go\n",
    "\n",
    "Life is a barren field\n",
    "\n",
    "Frozen with snow.\n",
    "\n",
    "I think that I shall never see\n",
    "\n",
    "A poem lovely as a tree.\n",
    "\n",
    "A tree whose hungry mouth is prest\n",
    "\n",
    "Against the earth’s sweet flowing breast;\n",
    "\n",
    "A tree that looks at God all day,\n",
    "\n",
    "And lifts her leafy arms to pray;\n",
    "\n",
    "A tree that may in summer wear\n",
    "\n",
    "A nest of robins in her hair;\n",
    "\n",
    "Upon whose bosom snow has lain;\n",
    "\n",
    "Who intimately lives with rain.\n",
    "\n",
    "Poems are made by fools like me,\n",
    "\n",
    "But only God can make a tree.\n",
    "\n",
    "I met a traveller from an antique land\n",
    "\n",
    "Who said: `Two vast and trunkless legs of stone\n",
    "\n",
    "Stand in the desert. Near them, on the sand,\n",
    "\n",
    "Half sunk, a shattered visage lies, whose frown,\n",
    "\n",
    "And wrinkled lip, and sneer of cold command,\n",
    "\n",
    "Tell that its sculptor well those passions read\n",
    "\n",
    "Which yet survive, stamped on these lifeless things,\n",
    "\n",
    "The hand that mocked them and the heart that fed.\n",
    "\n",
    "And on the pedestal these words appear —\n",
    "\n",
    "“My name is Ozymandias, king of kings:\n",
    "\n",
    "Look on my works, ye Mighty, and despair!”\n",
    "\n",
    "Nothing beside remains. Round the decay\n",
    "\n",
    "Of that colossal wreck, boundless and bare\n",
    "\n",
    "The lone and level sands stretch far away.’\n",
    "\n",
    "The time will come\n",
    "\n",
    "when, with elation\n",
    "\n",
    "you will greet yourself arriving\n",
    "\n",
    "at your own door, in your own mirror\n",
    "\n",
    "and each will smile at the other’s welcome,\n",
    "\n",
    "and say, sit here. Eat.\n",
    "\n",
    "You will love again the stranger who was your self.\n",
    "\n",
    "Give wine. Give bread. Give back your heart\n",
    "\n",
    "to itself, to the stranger who has loved you\n",
    "\n",
    "all your life, whom you ignored\n",
    "\n",
    "for another, who knows you by heart.\n",
    "\n",
    "Take down the love letters from the bookshelf,\n",
    "\n",
    "the photographs, the desperate notes,\n",
    "\n",
    "peel your own image from the mirror.\n",
    "\n",
    "Sit. Feast on your life.\n",
    "\n",
    "If you can keep your head when all about you\n",
    "\n",
    "Are losing theirs and blaming it on you;\n",
    "\n",
    "If you can trust yourself when all men doubt you,\n",
    "\n",
    "But make allowance for their doubting too:\n",
    "\n",
    "If you can wait and not be tired by waiting,\n",
    "\n",
    "Or, being lied about, don’t deal in lies,\n",
    "\n",
    "Or being hated don’t give way to hating,\n",
    "\n",
    "And yet don’t look too good, nor talk too wise;\n",
    "\n",
    "If you can dream- -and not make dreams your master;\n",
    "\n",
    "If you can think- -and not make thoughts your aim,\n",
    "\n",
    "If you can meet with Triumph and Disaster\n",
    "\n",
    "And treat those two impostors just the same:.\n",
    "\n",
    "If you can bear to hear the truth you’ve spoken\n",
    "\n",
    "Twisted by knaves to make a trap for fools,\n",
    "\n",
    "Or watch the things you gave your life to, broken,\n",
    "\n",
    "And stoop and build’em up with worn-out tools;\n",
    "\n",
    "If you can make one heap of all your winnings\n",
    "\n",
    "And risk it on one turn of pitch-and-toss,\n",
    "\n",
    "And lose, and start again at your beginnings,\n",
    "\n",
    "And never breathe a word about your loss:\n",
    "\n",
    "If you can force your heart and nerve and sinew\n",
    "\n",
    "To serve your turn long after they are gone,\n",
    "\n",
    "And so hold on when there is nothing in you\n",
    "\n",
    "Except the Will which says to them: ‘Hold on! ‘\n",
    "\n",
    "If you can talk with crowds and keep your virtue,\n",
    "\n",
    "Or walk with Kings- -nor lose the common touch,\n",
    "\n",
    "If neither foes nor loving friends can hurt you,\n",
    "\n",
    "If all men count with you, but none too much:\n",
    "\n",
    "If you can fill the unforgiving minute\n",
    "\n",
    "With sixty seconds’ worth of distance run,\n",
    "\n",
    "Yours is the Earth and everything that’s in it,\n",
    "\n",
    "And- -which is more- -you’ll be a Man, my son!\"\"\""
   ],
   "id": "1185120e5a7f0e6a",
   "outputs": [],
   "execution_count": 14
  },
  {
   "metadata": {
    "ExecuteTime": {
     "end_time": "2025-06-18T08:54:49.234488Z",
     "start_time": "2025-06-18T08:54:48.179899Z"
    }
   },
   "cell_type": "code",
   "source": "tokens = preprocess(song)",
   "id": "c9dea2d08416de6f",
   "outputs": [],
   "execution_count": 16
  },
  {
   "metadata": {
    "ExecuteTime": {
     "end_time": "2025-06-18T09:08:10.717967Z",
     "start_time": "2025-06-18T09:08:09.456122Z"
    }
   },
   "cell_type": "code",
   "source": [
    "freqDis = nltk.FreqDist(tokens)\n",
    "\n",
    "plt.bar(list(freqDis.keys())[0: 10], list(freqDis.values())[0:10])\n",
    "plt.xlabel(\"tokens\")\n",
    "plt.ylabel(\"Frequency\")\n",
    "plt.show()"
   ],
   "id": "c1aeb8b01e689c0b",
   "outputs": [
    {
     "data": {
      "text/plain": [
       "<Figure size 640x480 with 1 Axes>"
      ],
      "image/png": "[encoded data removed]"
     },
     "metadata": {},
     "output_type": "display_data"
    }
   ],
   "execution_count": 18
  },
  {
   "metadata": {
    "ExecuteTime": {
     "end_time": "2025-06-18T09:15:38.097765Z",
     "start_time": "2025-06-18T09:15:38.070770Z"
    }
   },
   "cell_type": "code",
   "source": [
    "C = sum(freqDis.values())\n",
    "\n",
    "print(freqDis[\"if\"]/C)"
   ],
   "id": "d6cdf325bbc8a866",
   "outputs": [
    {
     "name": "stdout",
     "output_type": "stream",
     "text": [
      "0.022653721682847898\n"
     ]
    }
   ],
   "execution_count": 19
  },
  {
   "metadata": {
    "ExecuteTime": {
     "end_time": "2025-06-18T10:47:22.707217Z",
     "start_time": "2025-06-18T10:47:22.686223Z"
    }
   },
   "cell_type": "code",
   "source": [
    "# create the bigram\n",
    "bigrams = nltk.bigrams(tokens)\n",
    "\n",
    "# vocabulary\n",
    "vocabulary = set(tokens)\n",
    "\n",
    "# convert the bigrams to a list to access them\n",
    "my_bigrams = list(bigrams)\n",
    "\n",
    "# in order for as to predict the next word, we need to see the frequency of the prev word and the target together\n",
    "freq_bigrams = nltk.FreqDist(nltk.bigrams(tokens))\n",
    "\n",
    "print(my_bigrams[0:10])\n",
    "\n",
    "# example\n",
    "print(freq_bigrams[('hold','fast')])\n"
   ],
   "id": "91609df405dc173d",
   "outputs": [
    {
     "name": "stdout",
     "output_type": "stream",
     "text": [
      "[('hold', 'fast'), ('fast', 'to'), ('to', 'dreams'), ('dreams', 'for'), ('for', 'if'), ('if', 'dreams'), ('dreams', 'die'), ('die', 'life'), ('life', 'is'), ('is', 'a')]\n",
      "2\n"
     ]
    }
   ],
   "execution_count": 32
  },
  {
   "metadata": {
    "ExecuteTime": {
     "end_time": "2025-06-18T11:08:20.118716Z",
     "start_time": "2025-06-18T11:08:20.096086Z"
    }
   },
   "cell_type": "code",
   "source": [
    "# now we can see how freq two words appear along each other, we can try to make a prediction based on this\n",
    "word = \"if\"\n",
    "vocab_probabilities = {}\n",
    "for next_word in vocabulary:\n",
    "    vocab_probabilities[next_word] = freq_bigrams[(word, next_word)] / freqDis[word]\n",
    "\n",
    "vocab_probabilities = sorted(\n",
    "    vocab_probabilities.items(),\n",
    "    key=lambda  x: x[1],\n",
    "    reverse=True\n",
    ")"
   ],
   "id": "e3ac5196e6a60548",
   "outputs": [],
   "execution_count": 37
  },
  {
   "metadata": {
    "ExecuteTime": {
     "end_time": "2025-06-18T11:08:22.993786Z",
     "start_time": "2025-06-18T11:08:22.982442Z"
    }
   },
   "cell_type": "code",
   "source": "print(vocab_probabilities[0:4])",
   "id": "399397f19b106970",
   "outputs": [
    {
     "name": "stdout",
     "output_type": "stream",
     "text": [
      "[('you', 0.7857142857142857), ('all', 0.07142857142857142), ('dreams', 0.07142857142857142), ('neither', 0.07142857142857142)]\n"
     ]
    }
   ],
   "execution_count": 38
  },
  {
   "metadata": {
    "ExecuteTime": {
     "end_time": "2025-06-18T11:52:51.720820Z",
     "start_time": "2025-06-18T11:52:51.692142Z"
    }
   },
   "cell_type": "code",
   "source": [
    "def make_predictions(\n",
    "        my_words,\n",
    "        freq_grams,\n",
    "        normalize=1,\n",
    "        vocabulary=vocabulary\n",
    "):\n",
    "        \"\"\"\n",
    "        Given a sequence of words, this functions makes predictions on the  probability of the next word\n",
    "\n",
    "        Args:\n",
    "            my_words (list): A list of words in the input sequence.\n",
    "            freq_gram(dict): A dictionary containing frequency of n-grams\n",
    "            normalize (int): A normalization factor for calculating probabilities.\n",
    "            vocabulary (list): A list of words in the vocabulary.\n",
    "\n",
    "        Returns:\n",
    "            list: A list of predicted words along with their probabilities, sorted in descending order.\n",
    "    \"\"\"\n",
    "\n",
    "        # initialize the dict to store the probabilities\n",
    "        vocab_probabilities = {}\n",
    "\n",
    "        # context window\n",
    "        context_size =  len(list(freq_grams.keys())[0])\n",
    "\n",
    "        # generate the tokens\n",
    "        tokens = preprocess(my_words)[0: context_size - 1]\n",
    "\n",
    "        # make predictions\n",
    "        for next_word in vocabulary:\n",
    "            temp = tokens.copy()\n",
    "            temp.append(next_word)\n",
    "\n",
    "            if normalize != 0:\n",
    "                vocab_probabilities[next_word] = freq_grams[(tuple(temp))] / normalize\n",
    "            else:\n",
    "                vocab_probabilities[next_word] = freq_grams[(tuple(temp))]\n",
    "\n",
    "        # Sort the predicted words based on their probabilities in descending order\n",
    "        vocab_probabilities = sorted(\n",
    "            vocab_probabilities.items(),\n",
    "            key = lambda x:x[1],\n",
    "            reverse=True\n",
    "        )\n",
    "\n",
    "        return vocab_probabilities # Return the sorted list of predicted words and their probabilities"
   ],
   "id": "54c454eb89239b33",
   "outputs": [],
   "execution_count": 44
  },
  {
   "metadata": {
    "ExecuteTime": {
     "end_time": "2025-06-18T11:52:57.526776Z",
     "start_time": "2025-06-18T11:52:57.513168Z"
    }
   },
   "cell_type": "code",
   "source": [
    "my_words = \"if\"\n",
    "probailities = make_predictions(\n",
    "    my_words=my_words,\n",
    "    freq_grams=freq_bigrams,\n",
    "    normalize=freqDis['are']\n",
    ")"
   ],
   "id": "8a217b1004c05e49",
   "outputs": [],
   "execution_count": 45
  },
  {
   "metadata": {
    "ExecuteTime": {
     "end_time": "2025-06-18T11:53:00.282389Z",
     "start_time": "2025-06-18T11:53:00.063820Z"
    }
   },
   "cell_type": "code",
   "source": [
    "my_song=\"\"\n",
    "for w in tokens[0:100]:\n",
    "  my_word=make_predictions(w,freq_bigrams)[0][0]\n",
    "  my_song+=\" \"+my_word"
   ],
   "id": "96597e8525222490",
   "outputs": [],
   "execution_count": 46
  },
  {
   "metadata": {
    "ExecuteTime": {
     "end_time": "2025-06-18T11:53:23.701370Z",
     "start_time": "2025-06-18T11:53:23.692244Z"
    }
   },
   "cell_type": "code",
   "source": "print(my_song)",
   "id": "dd4eed20098a61c2",
   "outputs": [
    {
     "name": "stdout",
     "output_type": "stream",
     "text": [
      " fast to dreams for fools you for life is a tree bird that fed make make hold fast to dreams for fools all for life is a tree field frozen with snow i shall and fed shall never breathe a tree lovely as a tree that tree that frown mouth is a against the earth s sweet flowing breast a tree that fed at your all your and not her hair arms to dreams a tree that fed in your wear a tree of all in your hair upon whose frown snow i lain who said lives with snow poems\n"
     ]
    }
   ],
   "execution_count": 47
  }
 ],
 "metadata": {
  "kernelspec": {
   "display_name": "Python 3 (ipykernel)",
   "language": "python",
   "name": "python3"
  },
  "language_info": {
   "codemirror_mode": {
    "name": "ipython",
    "version": 2
   },
   "file_extension": ".py",
   "mimetype": "text/x-python",
   "name": "python",
   "nbconvert_exporter": "python",
   "pygments_lexer": "ipython2",
   "version": "2.7.6"
  }
 },
 "nbformat": 4,
 "nbformat_minor": 5
}

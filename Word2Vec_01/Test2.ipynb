{
 "cells": [
  {
   "metadata": {},
   "cell_type": "code",
   "outputs": [],
   "execution_count": null,
   "source": [
    "def train(\n",
    "        model,\n",
    "        dataloader,\n",
    "        criterion,\n",
    "        optimizer,\n",
    "        num_epochs=1000\n",
    "):\n",
    "    epoch_losses = []\n",
    "\n",
    "    running_loss = 0.0\n",
    "\n",
    "    for idx, samples in enumerate(dataloader):\n",
    "        optimizer.zero_grad()\n",
    "\n",
    "        context, target, offsets = samples\n",
    "\n",
    "        predicted = model(context, offsets)\n",
    "\n",
    "        loss = criterion(predicted, target)\n",
    "        loss.backward()\n",
    "        optimizer.step()\n",
    "\n",
    "\n",
    "\n"
   ],
   "id": "9b688bb60c8966b6"
  }
 ],
 "metadata": {
  "kernelspec": {
   "display_name": "Python 3 (ipykernel)",
   "language": "python",
   "name": "python3"
  },
  "language_info": {
   "codemirror_mode": {
    "name": "ipython",
    "version": 2
   },
   "file_extension": ".py",
   "mimetype": "text/x-python",
   "name": "python",
   "nbconvert_exporter": "python",
   "pygments_lexer": "ipython2",
   "version": "2.7.6"
  }
 },
 "nbformat": 4,
 "nbformat_minor": 5
}
